{
 "cells": [
  {
   "cell_type": "markdown",
   "metadata": {},
   "source": [
    "# Basic Motion\n",
    "\n",
    "Welcome to JetBot's browser based programming interface!  This document is\n",
    "called a *Jupyter Notebook*, which combines text, code, and graphic\n",
    "display all in one!  Prett neat, huh? If you're unfamiliar with *Jupyter* we suggest clicking the \n",
    "``Help`` drop down menu in the top toolbar.  This has useful references for\n",
    "programming with *Jupyter*. \n",
    "\n",
    "In this notebook, we'll cover the basics of controlling JetBot. \n",
    "\n",
    "# 로봇의 기본동작 - 움직여보기\n",
    "\n",
    "- JetBot의 브라우저 기반 프로그래밍 인터페이스에 오신 것을 환영합니다! \n",
    "- 이 문서는 텍스트, 코드 및 그래픽을 결합해 하나에 표시하는 'Jupyter Notebook' 이라는 프로그램입니다!\n",
    "- Jupyter 프로그램이 익숙하지 않다면 상단 툴바의 '도움말' 드롭 다운 메뉴를 눌러 확인합니다.\n",
    "- 여기에 Jupyter를 사용한 프로그래밍에 유용한 참고 자료가 있습니다.\n",
    "- 이 노트북에서는 JetBot 제어의 기본 사항을 다룹니다.\n",
    "\n",
    "### Importing the Robot class\n",
    "\n",
    "To get started programming JetBot, we'll need to import the ``Robot`` class.  This class\n",
    "allows us to easily control the robot's motors!  This is contained in the ``jetbot`` package.\n",
    "\n",
    "> If you're new to Python, a *package* is essentially a folder containing \n",
    "> code files.  These code files are called *modules*.\n",
    "\n",
    "To import the ``Robot`` class, highlight the cell below and press ``ctrl + enter`` or the ``play`` icon above.\n",
    "This will execute the code contained in the cell\n",
    "\n",
    "### Robot 클래스 Import하기\n",
    "\n",
    "- JetBot 프로그래밍을 시작하려면 'Robot'클래스를 가져와야합니다. \n",
    "- 이 예제를 진행하면 로봇 모터를 쉽게 제어 할 수 있습니다! \n",
    "- 이 모든 소프트웨어는 'jetbot' 패키지에 포함되어 있습니다.\n",
    "\n",
    "> Python을 처음 사용하는 경우 * package *는 기본적으로 다음을 포함하는 폴더입니다.\n",
    "> 코드 파일. 이 코드 파일을 * 모듈 *이라고합니다.\n",
    "\n",
    "- '로봇'클래스를 가져 오려면 아래 셀을 강조 표시하고 'ctrl + enter'또는 위의 '재생' 아이콘을 눌러주세요. 셀에 포함 된 코드를 실행합니다\n",
    "\n",
    "====================================================================================================\n",
    "### 추가\n",
    "- 모든 실습은 *Jupyter Notebook* 을 활용합니다. 이 프로그램은 파이썬 코드를 쉽고 간편하게 실행시킬수 있는 강력한 도구 입니다.\n",
    "- Robot이라는 클래스를 사용해서 젯봇에 달려있는 모터를 쉽고 빠르게 움직여 보겠습니다. \n",
    "- 아래의 코드를 실행하면 Warning이 발생하지만, 무시합니다."
   ]
  },
  {
   "cell_type": "code",
   "execution_count": 1,
   "metadata": {},
   "outputs": [
    {
     "name": "stderr",
     "output_type": "stream",
     "text": [
      "/usr/local/lib/python3.6/dist-packages/tensorflow/python/framework/dtypes.py:526: FutureWarning: Passing (type, 1) or '1type' as a synonym of type is deprecated; in a future version of numpy, it will be understood as (type, (1,)) / '(1,)type'.\n",
      "  _np_qint8 = np.dtype([(\"qint8\", np.int8, 1)])\n",
      "/usr/local/lib/python3.6/dist-packages/tensorflow/python/framework/dtypes.py:527: FutureWarning: Passing (type, 1) or '1type' as a synonym of type is deprecated; in a future version of numpy, it will be understood as (type, (1,)) / '(1,)type'.\n",
      "  _np_quint8 = np.dtype([(\"quint8\", np.uint8, 1)])\n",
      "/usr/local/lib/python3.6/dist-packages/tensorflow/python/framework/dtypes.py:528: FutureWarning: Passing (type, 1) or '1type' as a synonym of type is deprecated; in a future version of numpy, it will be understood as (type, (1,)) / '(1,)type'.\n",
      "  _np_qint16 = np.dtype([(\"qint16\", np.int16, 1)])\n",
      "/usr/local/lib/python3.6/dist-packages/tensorflow/python/framework/dtypes.py:529: FutureWarning: Passing (type, 1) or '1type' as a synonym of type is deprecated; in a future version of numpy, it will be understood as (type, (1,)) / '(1,)type'.\n",
      "  _np_quint16 = np.dtype([(\"quint16\", np.uint16, 1)])\n",
      "/usr/local/lib/python3.6/dist-packages/tensorflow/python/framework/dtypes.py:530: FutureWarning: Passing (type, 1) or '1type' as a synonym of type is deprecated; in a future version of numpy, it will be understood as (type, (1,)) / '(1,)type'.\n",
      "  _np_qint32 = np.dtype([(\"qint32\", np.int32, 1)])\n",
      "/usr/local/lib/python3.6/dist-packages/tensorflow/python/framework/dtypes.py:535: FutureWarning: Passing (type, 1) or '1type' as a synonym of type is deprecated; in a future version of numpy, it will be understood as (type, (1,)) / '(1,)type'.\n",
      "  np_resource = np.dtype([(\"resource\", np.ubyte, 1)])\n"
     ]
    }
   ],
   "source": [
    "from jetbot import Robot"
   ]
  },
  {
   "cell_type": "markdown",
   "metadata": {},
   "source": [
    "- Now that we've imported the ``Robot`` class we can initialize the class *instance* as follows. \n",
    "- 이제 'Robot'클래스를 가져 왔으므로 다음과 같이 instance 클래스를 초기화 할 수 있습니다."
   ]
  },
  {
   "cell_type": "code",
   "execution_count": 2,
   "metadata": {},
   "outputs": [],
   "source": [
    "robot = Robot()"
   ]
  },
  {
   "cell_type": "markdown",
   "metadata": {},
   "source": [
    "### Commanding the robot"
   ]
  },
  {
   "cell_type": "markdown",
   "metadata": {},
   "source": [
    "Now that we've created our ``Robot`` instance we named \"robot\", we can use this instance\n",
    "to control the robot.  To make the robot spin counterclockwise at 30% of it's max speed\n",
    "we can call the following\n",
    "\n",
    "> WARNING:  This next command will make the robot move!  Please make sure the robot has clearance.\n",
    "\n",
    "- Robot 객체를 생성 후 왼쪽 모터에 구동신호를 보냅니다."
   ]
  },
  {
   "cell_type": "code",
   "execution_count": 3,
   "metadata": {},
   "outputs": [],
   "source": [
    "robot.left(speed=0.3)"
   ]
  },
  {
   "cell_type": "markdown",
   "metadata": {},
   "source": [
    "Cool, you should see the robot spin counterclockwise!\n",
    "\n",
    "> If your robot didn't turn left, that means one of the motors is wired backwards!  Try powering down your\n",
    "> robot and swapping the terminals that the ``red`` and ``black`` cables of the incorrect motor.\n",
    "> \n",
    "> REMINDER: Always be careful to check your wiring, and don't change the wiring on a running system!\n",
    "\n",
    "Now, to stop the robot you can call the ``stop`` method.\n",
    "- 정지 신호를 보냅니다."
   ]
  },
  {
   "cell_type": "code",
   "execution_count": 5,
   "metadata": {},
   "outputs": [],
   "source": [
    "robot.stop()"
   ]
  },
  {
   "cell_type": "markdown",
   "metadata": {},
   "source": [
    "Maybe we only want to run the robot for a set period of time.  For that, we can use the Python ``time`` package.  \n",
    "- 이제 0.5초만 앞으로 전진하고 멈추는 예제를 구동하겠습니다."
   ]
  },
  {
   "cell_type": "code",
   "execution_count": 8,
   "metadata": {},
   "outputs": [],
   "source": [
    "import time"
   ]
  },
  {
   "cell_type": "markdown",
   "metadata": {},
   "source": [
    "This package defines the ``sleep`` function, which causes the code execution to block for the specified number of seconds\n",
    "before running the next command.  Try the following to make the robot turn left only for half a second.\n",
    "\n",
    "- 이 패키지는 '잠자기' 기능을 정의하여 지정된 시간 (초) 동안 코드 실행을 차단합니다.\n",
    "- 다음 명령을 실행하기 전에 로봇을 0.5 초 동안 만 왼쪽으로 돌리려면 다음을 시도하십시오."
   ]
  },
  {
   "cell_type": "code",
   "execution_count": 9,
   "metadata": {},
   "outputs": [],
   "source": [
    "robot.left(0.3)\n",
    "time.sleep(0.5)\n",
    "robot.stop()"
   ]
  },
  {
   "cell_type": "markdown",
   "metadata": {},
   "source": [
    "Great.  You should see the robot turn left for a bit and then stop.\n",
    "\n",
    "> Wondering what happened to the ``speed=`` inside the ``left`` method?  Python allows \n",
    "> us to set function parameters by either their name, or the order that they are defined\n",
    "> (without specifying the name).\n",
    "\n",
    "The ``BasicJetbot`` class also has the methods ``right``, ``forward``, and ``backwards``.  Try creating your own cell to make\n",
    "the robot move forward at 50% speed for one second.\n",
    "\n",
    "Create a new cell by highlighting an existing cell and pressing ``b`` or the ``+`` icon above.  Once you've done that, type in the code that you think will make the robot move forward at 50% speed for one second.\n",
    "\n",
    "- 큰. 로봇이 약간 좌회전 한 다음 정지해야합니다.\n",
    "\n",
    "> 'left()' 메서드에서 `speed =` 대입연산의 결과가 궁금하신가요?\n",
    "> 파이썬은 함수 이름을 정의하거나 순서대로 함수 매개 변수를 설정합니다. (이름을 지정하지 않음).\n",
    "\n",
    "- 'BasicJetbot'클래스에는 'right', 'forward'및 'backwards'메소드도 있습니다. 나만의 셀을 만들어보십시오.\n",
    "- 로봇은 1 초 동안 50 % 속도로 전진합니다.\n",
    "- 기존 셀을 강조 표시하고 위의 'b'또는 '+'아이콘을 눌러 새 셀을 만듭니다. 일단 그렇게하면 로봇이 1 초 동안 50 % 속도로 앞으로 나아갈 것이라고 생각하는 코드를 입력하십시오."
   ]
  },
  {
   "cell_type": "markdown",
   "metadata": {},
   "source": [
    "### Controlling motors individually\n",
    "\n",
    "Above we saw how we can control the robot using commands like ``left``, ``right``, etc.  But what if we want to set each motor speed \n",
    "individually?  Well, there are two ways you can do this\n",
    "\n",
    "The first way is to call the ``set_motors`` method.  For example, to turn along a left arch for a second we could set the left motor to 30% and the right motor to 60% like follows.\n",
    "- 좌,우 모터의 속도를 다르게 인가하여 방향을 변경합니다.\n",
    "- 이 코드를 실행하면, 좌우 모터의 속도가 다르게 동작합니다."
   ]
  },
  {
   "cell_type": "code",
   "execution_count": 10,
   "metadata": {},
   "outputs": [],
   "source": [
    "robot.set_motors(0.3, 0.6)\n",
    "time.sleep(1.0)\n",
    "robot.stop()"
   ]
  },
  {
   "cell_type": "markdown",
   "metadata": {},
   "source": [
    "Great!  You should see the robot move along a left arch.  But actually, there's another way that we could accomplish the same thing.\n",
    "\n",
    "The ``Robot`` class has two attributes named ``left_motor`` and ``right_motor`` that represent each motor individually.\n",
    "These attributes are ``Motor`` class instances, each which contains a ``value`` attribute.  This ``value`` attribute\n",
    "is a [traitlet](https://github.com/ipython/traitlets) which generates ``events`` when assigned a new value.  In the motor\n",
    "class, we attach a function that updates the motor commands whenever the value changes.\n",
    "\n",
    "So, to accomplish the exact same thing we did above, we could execute the following.\n",
    "\n",
    "\n",
    "- 로봇이 왼쪽 아치를 따라 움직이는 것을 볼 수 있습니다. 그러나 실제로, 우리가 똑같은 것을 성취 할 수있는 또 다른 방법이 있습니다.\n",
    "- 'Robot' 클래스에는 각 모터를 개별적으로 나타내는 'left_motor'및 'right_motor'라는 두 가지 속성이 있습니다.\n",
    "- 이러한 속성은 'value' 속성을 포함하는 'motor' 클래스 인스턴스입니다. 이 'value' 속성에 새 값이 할당되면 'event' 를 생성하는 [traitlet](https://github.com/ipython/traitlets)입니다. \n",
    "- 모터에서 값이 변할 때마다 모터 명령을 업데이트하는 함수를 첨부합니다.\n",
    "- 따라서 위에서했던 것과 똑같은 것을 달성하기 위해 다음을 실행할 수 있습니다."
   ]
  },
  {
   "cell_type": "code",
   "execution_count": 11,
   "metadata": {},
   "outputs": [],
   "source": [
    "robot.left_motor.value = 0.3\n",
    "robot.right_motor.value = 0.6\n",
    "time.sleep(1.0)\n",
    "robot.left_motor.value = 0.0\n",
    "robot.right_motor.value = 0.0"
   ]
  },
  {
   "cell_type": "markdown",
   "metadata": {},
   "source": [
    "You should see the robot move in the same exact way!"
   ]
  },
  {
   "cell_type": "markdown",
   "metadata": {},
   "source": [
    "### Link motors to traitlets"
   ]
  },
  {
   "cell_type": "markdown",
   "metadata": {},
   "source": [
    "A really cool feature about these [traitlets](https://github.com/ipython/traitlets) is that we can \n",
    "also link them to other traitlets!  This is super handy because Jupyter Notebooks allow us\n",
    "to make graphical ``widgets`` that use traitlets under the hood.  This means we can attach\n",
    "our motors to ``widgets`` to control them from the browser, or just visualize the value.\n",
    "\n",
    "To show how to do this, let's create and display two sliders that we'll use to control our motors.\n",
    "- 또한 다른 traitlets에 연결하십시오! Jupyter Notebook을 사용하면 매우 편리합니다. 후드 아래에 traitlets를 사용하는 그래픽 \"위젯\" 을 만들기 위해. 이것은 우리가 첨부 할 수 있음을 의미 \n",
    "- 우리의 모터는 브라우저에서 모터를 제어하거나 값을 시각화하기 위해 \"위젯\" 에 있습니다. 이 작업을 수행하는 방법을 보여주기 위해 모터를 제어하는 데 사용할 두 개의 슬라이더를 만들어 표시하겠습니다."
   ]
  },
  {
   "cell_type": "code",
   "execution_count": 13,
   "metadata": {},
   "outputs": [
    {
     "data": {
      "application/vnd.jupyter.widget-view+json": {
       "model_id": "a1c4ba207c984c3ea890cf77fb1e64c8",
       "version_major": 2,
       "version_minor": 0
      },
      "text/plain": [
       "HBox(children=(FloatSlider(value=0.0, description='left', max=1.0, min=-1.0, orientation='vertical', step=0.01…"
      ]
     },
     "metadata": {},
     "output_type": "display_data"
    }
   ],
   "source": [
    "import ipywidgets.widgets as widgets\n",
    "from IPython.display import display\n",
    "\n",
    "# create two sliders with range [-1.0, 1.0]\n",
    "left_slider = widgets.FloatSlider(description='left', min=-1.0, max=1.0, step=0.01, orientation='vertical')\n",
    "right_slider = widgets.FloatSlider(description='right', min=-1.0, max=1.0, step=0.01, orientation='vertical')\n",
    "\n",
    "# create a horizontal box container to place the sliders next to eachother\n",
    "slider_container = widgets.HBox([left_slider, right_slider])\n",
    "\n",
    "# display the container in this cell's output\n",
    "display(slider_container)"
   ]
  },
  {
   "cell_type": "markdown",
   "metadata": {},
   "source": [
    "You should see two ``vertical`` sliders displayed above. \n",
    "\n",
    "> HELPFUL TIP:  In Jupyter Lab, you can actually \"pop\" the output of cells into entirely separate window!  It will still be \n",
    "> connected to the notebook, but displayed separately.  This is helpful if we want to pin the output of code we executed elsewhere.\n",
    "> To do this, right click the output of the cell and select ``Create New View for Output``.  You can then drag the new window\n",
    "> to a location you find pleasing.\n",
    "\n",
    "Try clicking and dragging the sliders up and down.  Notice nothing happens when we move the sliders currently.  That's because we haven't connected them to motors yet!  We'll do that by using the ``link`` function from the traitlets package.\n",
    "\n",
    "\n",
    "- 위에 두 개의 '수직' 슬라이더가 표시되어야합니다.\n",
    "> 유용한 팁 : Jupyter Lab에서는 실제로 셀 출력을 완전히 별도의 창에 \"팝핑\"할 수 있습니다! 여전히있을 것입니다\n",
    "> 노트북에 연결되어 있지만 별도로 표시됩니다. 다른 곳에서 실행 한 코드의 출력을 고정하려는 경우에 유용합니다.\n",
    "> 이렇게하려면 셀의 출력을 마우스 오른쪽 버튼으로 클릭하고``출력을 위해 새보기 만들기 ''를 선택하십시오. 그런 다음 새 창을 드래그 할 수 있습니다\n",
    "> 원하는 곳으로 이동하십시오.\n",
    "- 슬라이더를 클릭하고 위아래로 드래그하십시오. 현재 슬라이더를 움직일 때 아무 일도 일어나지 않습니다. 아직 모터에 연결하지 않았기 때문입니다! 우리는 traitlets 패키지의'link'기능을 사용하여 그렇게 할 것입니다."
   ]
  },
  {
   "cell_type": "code",
   "execution_count": 21,
   "metadata": {},
   "outputs": [],
   "source": [
    "import traitlets\n",
    "\n",
    "left_link = traitlets.link((left_slider, 'value'), (robot.left_motor, 'value'))\n",
    "right_link = traitlets.link((right_slider, 'value'), (robot.right_motor, 'value'))"
   ]
  },
  {
   "cell_type": "markdown",
   "metadata": {},
   "source": [
    "Now try dragging the sliders (slowly at first).  You should see the respective motor turn!\n",
    "\n",
    "The ``link`` function that we created above actually creates a bi-directional link!  That means,\n",
    "if we set the motor values elsewhere, the sliders will update!  Try executing the code block below\n",
    "\n",
    "- 이제 슬라이더를 드래그하십시오 (처음에는 천천히). 각각의 모터 회전을 볼 수 있습니다!\n",
    "\n",
    "- 위에서 만든'링크'기능은 실제로 양방향 링크를 만듭니다! 그것의 의미는, 모터 값을 다른 곳에 설정하면 슬라이더가 업데이트됩니다! 아래 코드 블록을 실행 해보십시오"
   ]
  },
  {
   "cell_type": "code",
   "execution_count": 22,
   "metadata": {},
   "outputs": [],
   "source": [
    "robot.forward(0.3)\n",
    "time.sleep(1.0)\n",
    "robot.stop()"
   ]
  },
  {
   "cell_type": "markdown",
   "metadata": {},
   "source": [
    "- You should see the sliders respond to the motor commands!  If we want to remove this connection we can call the ``unlink`` method of each link.\n",
    "\n",
    "- 슬라이더가 모터 명령에 응답하는 것을 볼 수 있습니다! 이 연결을 제거하려면 각 링크의 'unlink()' 매서드를 호출해주세요"
   ]
  },
  {
   "cell_type": "code",
   "execution_count": 23,
   "metadata": {},
   "outputs": [],
   "source": [
    "left_link.unlink()\n",
    "right_link.unlink()"
   ]
  },
  {
   "cell_type": "markdown",
   "metadata": {},
   "source": [
    "- But what if we don't want a *bi-directional* link, let's say we only want to use the sliders to display the motor values,\n",
    "- but not control them.  For that we can use the ``dlink`` function.  The left input is the ``source`` and the right input is the ``target``\n",
    "\n",
    "- 양방향 링크를 원하지 않고, 슬라이더를 사용하여 모터 값만 표시만하고 속도조절이나 컨트롤을 하고싶지 않다면, 'dlink()' 기능(매서드 호출)을 사용할 수 있습니다. \n",
    "- 왼쪽 입력은 '소스' 이고 오른쪽 입력은 '대상' 입니다"
   ]
  },
  {
   "cell_type": "code",
   "execution_count": 24,
   "metadata": {},
   "outputs": [],
   "source": [
    "left_link = traitlets.dlink((robot.left_motor, 'value'), (left_slider, 'value'))\n",
    "right_link = traitlets.dlink((robot.right_motor, 'value'), (right_slider, 'value'))"
   ]
  },
  {
   "cell_type": "markdown",
   "metadata": {},
   "source": [
    "- Now try moving the sliders.  You should see that the robot doesn't respond.  But when set the motors using a different method, the sliders will update and display the value!\n",
    "\n",
    "- 이제 슬라이더를 움직여도 로봇이 응답하지 않는 것을 볼 수 있습니다. \n",
    "- 그러나 다른 방법으로 모터를 설정하면 슬라이더가 업데이트되어 값을 표시합니다! (뒤에 이어집니다)"
   ]
  },
  {
   "cell_type": "markdown",
   "metadata": {},
   "source": [
    "### Attach functions to events - 마우스 버튼을 눌러 Jetbot 움직이기"
   ]
  },
  {
   "cell_type": "markdown",
   "metadata": {},
   "source": [
    "Another way to use traitlets, is by attaching functions (like ``forward``) to events.  These\n",
    "functions will get called whenever a change to the object occurs, and will be passed some information about that change\n",
    "like the ``old`` value and the ``new`` value.  \n",
    "\n",
    "Let's create and display some buttons that we'll use to control the robot.\n",
    "\n",
    "\n",
    "- traitlets를 사용하는 또 다른 방법은 이벤트에 '앞으로'와 같은 기능을 연결하는 것입니다. \n",
    "- 이들 함수는 객체가 변경 될 때마다 호출되며 해당 변경에 대한 정보가 전달됩니다.\n",
    "- 'old '값 및 'new'값과 같은 로봇을 제어하는데 사용할 몇 가지 버튼을 만들어 표시해 보겠습니다."
   ]
  },
  {
   "cell_type": "code",
   "execution_count": 25,
   "metadata": {},
   "outputs": [
    {
     "data": {
      "application/vnd.jupyter.widget-view+json": {
       "model_id": "8a617a3bd7b14c00be6c50080c5a3b9b",
       "version_major": 2,
       "version_minor": 0
      },
      "text/plain": [
       "VBox(children=(Button(description='forward', layout=Layout(align_self='center', height='80px', width='100px'),…"
      ]
     },
     "metadata": {},
     "output_type": "display_data"
    }
   ],
   "source": [
    "# create buttons\n",
    "button_layout = widgets.Layout(width='100px', height='80px', align_self='center')\n",
    "stop_button = widgets.Button(description='stop', button_style='danger', layout=button_layout)\n",
    "forward_button = widgets.Button(description='forward', layout=button_layout)\n",
    "backward_button = widgets.Button(description='backward', layout=button_layout)\n",
    "left_button = widgets.Button(description='left', layout=button_layout)\n",
    "right_button = widgets.Button(description='right', layout=button_layout)\n",
    "\n",
    "# display buttons\n",
    "middle_box = widgets.HBox([left_button, stop_button, right_button], layout=widgets.Layout(align_self='center'))\n",
    "controls_box = widgets.VBox([forward_button, middle_box, backward_button])\n",
    "display(controls_box)"
   ]
  },
  {
   "cell_type": "markdown",
   "metadata": {},
   "source": [
    "You should see a set of robot controls displayed above!  But right now they wont do anything.  To do that\n",
    "we'll need to create some functions that we'll attach to the button's ``on_click`` event.  \n",
    "\n",
    "- 위에 로봇 컨트롤 세트가 표시됩니다! 그러나 지금 그들은 아무것도하지 않을 것입니다. 하기 위해서 버튼의 'on_click' 이벤트에 첨부 할 함수를 만들어야합니다."
   ]
  },
  {
   "cell_type": "code",
   "execution_count": 26,
   "metadata": {},
   "outputs": [],
   "source": [
    "def stop(change):\n",
    "    robot.stop()\n",
    "    \n",
    "def step_forward(change):\n",
    "    robot.forward(0.4)\n",
    "    time.sleep(0.5)\n",
    "    robot.stop()\n",
    "\n",
    "def step_backward(change):\n",
    "    robot.backward(0.4)\n",
    "    time.sleep(0.5)\n",
    "    robot.stop()\n",
    "\n",
    "def step_left(change):\n",
    "    robot.left(0.3)\n",
    "    time.sleep(0.5)\n",
    "    robot.stop()\n",
    "\n",
    "def step_right(change):\n",
    "    robot.right(0.3)\n",
    "    time.sleep(0.5)\n",
    "    robot.stop()"
   ]
  },
  {
   "cell_type": "markdown",
   "metadata": {},
   "source": [
    "Now that we've defined the functions, let's attach them to the on-click events of each button"
   ]
  },
  {
   "cell_type": "code",
   "execution_count": 27,
   "metadata": {},
   "outputs": [],
   "source": [
    "# link buttons to actions\n",
    "stop_button.on_click(stop)\n",
    "forward_button.on_click(step_forward)\n",
    "backward_button.on_click(step_backward)\n",
    "left_button.on_click(step_left)\n",
    "right_button.on_click(step_right)"
   ]
  },
  {
   "cell_type": "markdown",
   "metadata": {},
   "source": [
    "Now when you click each button, you should see the robot move!"
   ]
  },
  {
   "cell_type": "markdown",
   "metadata": {},
   "source": [
    "### Heartbeat Killswitch\n",
    "\n",
    "Here we show how to connect a 'heartbeat' to stop the robot from moving.  This is a simple way to detect if the robot connection is alive.  You can lower the slider below to reduce the period (in seconds) of the heartbeat.  If a round-trip communication between broswer cannot be made within two heartbeats, the '`status`' attribute of the heartbeat will be set ``dead``.  As soon as the connection is restored, the ``status`` attribute will return to ``alive``.\n",
    "\n",
    "### 하트 비트 킬 스위치\n",
    "\n",
    "- 여기에서는 로봇이 움직이지 않도록 '하트 비트'를 연결하는 방법을 보여줍니다. 로봇 연결이 활성화되어 있는지 감지하는 간단한 방법입니다. \n",
    "- 하트 비트의 기간 (초)을 줄이기 위해 슬라이더를 아래로 내릴 수 있습니다. \n",
    "- 두 개의 하트 비트 내에서 Broswer 간의 왕복 통신을 수행 할 수없는 경우 하트 비트의 '상태'속성이 '죽음'으로 설정됩니다. \n",
    "- 연결이 복원 되 자마자 'status'속성이 'alive' 로 돌아갑니다."
   ]
  },
  {
   "cell_type": "code",
   "execution_count": 28,
   "metadata": {},
   "outputs": [
    {
     "data": {
      "application/vnd.jupyter.widget-view+json": {
       "model_id": "3b4478e4e5d940728db640a093bf681a",
       "version_major": 2,
       "version_minor": 0
      },
      "text/plain": [
       "FloatSlider(value=0.5, description='period', max=0.5, min=0.001, step=0.01)"
      ]
     },
     "metadata": {},
     "output_type": "display_data"
    },
    {
     "data": {
      "application/vnd.jupyter.widget-view+json": {
       "model_id": "42d8a2722c574ddfa5e3517b1e219f7b",
       "version_major": 2,
       "version_minor": 0
      },
      "text/plain": [
       "FloatText(value=1573205926.1011815)"
      ]
     },
     "metadata": {},
     "output_type": "display_data"
    }
   ],
   "source": [
    "from jetbot import Heartbeat\n",
    "\n",
    "heartbeat = Heartbeat()\n",
    "\n",
    "# this function will be called when heartbeat 'alive' status changes\n",
    "def handle_heartbeat_status(change):\n",
    "    if change['new'] == Heartbeat.Status.dead:\n",
    "        robot.stop()\n",
    "        \n",
    "heartbeat.observe(handle_heartbeat_status, names='status')\n",
    "\n",
    "period_slider = widgets.FloatSlider(description='period', min=0.001, max=0.5, step=0.01, value=0.5)\n",
    "traitlets.dlink((period_slider, 'value'), (heartbeat, 'period'))\n",
    "\n",
    "display(period_slider, heartbeat.pulseout)"
   ]
  },
  {
   "cell_type": "markdown",
   "metadata": {},
   "source": [
    "Try executing the code below to start the motors, and then lower the slider to see what happens.  You can also try disconnecting your robot or PC.\n",
    "\n",
    "- 아래 코드를 실행하여 모터를 시작한 다음 슬라이더를 내려서 어떻게되는지 확인하십시오. 로봇이나 PC의 연결을 끊을 수도 있습니다.\n"
   ]
  },
  {
   "cell_type": "code",
   "execution_count": 29,
   "metadata": {},
   "outputs": [],
   "source": [
    "robot.left(0.2) \n",
    "\n",
    "# now lower the `period` slider above until the network heartbeat can't be satisfied"
   ]
  },
  {
   "cell_type": "markdown",
   "metadata": {},
   "source": [
    "### Conclusion\n",
    "\n",
    "That's it for this example notebook!  Hopefully you feel confident that you can program your robot to move around now :)- \n",
    "\n",
    "### 결론\n",
    "\n",
    "- 이렇게 노트북 예제를 진행합니다! \n",
    "- 이 글을 보시는 모든 분들이 로봇을 프로그래밍 할 수 있다 확신하기를 희망합니다 :)"
   ]
  }
 ],
 "metadata": {
  "kernelspec": {
   "display_name": "Python 3",
   "language": "python",
   "name": "python3"
  },
  "language_info": {
   "codemirror_mode": {
    "name": "ipython",
    "version": 3
   },
   "file_extension": ".py",
   "mimetype": "text/x-python",
   "name": "python",
   "nbconvert_exporter": "python",
   "pygments_lexer": "ipython3",
   "version": "3.6.8"
  }
 },
 "nbformat": 4,
 "nbformat_minor": 2
}
